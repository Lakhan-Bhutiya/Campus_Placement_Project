{
 "cells": [
  {
   "cell_type": "code",
   "execution_count": 2,
   "id": "419c57fd-5469-4955-97df-9784b81d9fe7",
   "metadata": {},
   "outputs": [
    {
     "name": "stdout",
     "output_type": "stream",
     "text": [
      "Starting financial model training process...\n",
      "Training model for Currency:Revenue/Sales...\n",
      "Training model for Currency:Expense...\n",
      "Training model for Currency:Payroll/Compensation...\n",
      "Training model for Currency:Warranty...\n",
      "\n",
      "Training complete. Financial models have been saved to 'trained_financial_models.pkl'.\n"
     ]
    }
   ],
   "source": [
    "import pandas as pd\n",
    "import pickle\n",
    "from statsmodels.tsa.holtwinters import ExponentialSmoothing\n",
    "import warnings\n",
    "\n",
    "\n",
    "warnings.filterwarnings(\"ignore\")\n",
    "\n",
    "def clean_and_prepare_data(data_filepath, lookup_filepath):\n",
    "    \"\"\"Loads, cleans, and categorizes the raw dealership data.\"\"\"\n",
    "    df_raw = pd.read_csv(data_filepath)\n",
    "    df_lookup = pd.read_csv(lookup_filepath)\n",
    "    df_categorized = pd.merge(df_raw, df_lookup, on='english_name', how='left')\n",
    "    df_categorized.dropna(subset=['year', 'month'], inplace=True)\n",
    "    df_categorized['date'] = pd.to_datetime(df_categorized['year'].astype(int).astype(str) + '-' + df_categorized['month'].astype(int).astype(str))\n",
    "    sales_errors_mask = (df_categorized['category'] == 'Currency:Revenue/Sales') & (df_categorized['monthly_value'] < 0)\n",
    "    df_categorized.loc[sales_errors_mask, 'monthly_value'] = 0\n",
    "    return df_categorized\n",
    "\n",
    "def main():\n",
    "    \"\"\"\n",
    "    Trains forecasting models for the main financial categories and saves them.\n",
    "    \"\"\"\n",
    "    print(\"Starting financial model training process...\")\n",
    "    \n",
    "    # --- 1. SETUP ---\n",
    "    training_data_file = 'FS-data-80475.csv'\n",
    "    lookup_file = 'categorized_kpis.csv'\n",
    "    output_model_file = 'trained_financial_models.pkl'\n",
    "\n",
    "    # --- 2. PREPARE DATA ---\n",
    "    df_full = clean_and_prepare_data(training_data_file, lookup_file)\n",
    "    \n",
    "    # --- 3. TRAIN MODELS FOR FINANCIAL CATEGORIES ---\n",
    "    trained_models = {}\n",
    "    \n",
    "    financial_categories = ['Currency:Revenue/Sales', 'Currency:Expense', 'Currency:Payroll/Compensation', 'Currency:Warranty']\n",
    "    df_financials = df_full[df_full['category'].isin(financial_categories)]\n",
    "    df_aggregated = df_financials.groupby(['date', 'category'])['monthly_value'].sum().reset_index()\n",
    "\n",
    "    for category in financial_categories:\n",
    "        print(f\"Training model for {category}...\")\n",
    "        ts_data = df_aggregated[df_aggregated['category'] == category].set_index('date')['monthly_value']\n",
    "        \n",
    "        if len(ts_data) >= 24:\n",
    "            model = ExponentialSmoothing(ts_data, trend='add', seasonal='add', seasonal_periods=12).fit()\n",
    "        else:\n",
    "            model = ExponentialSmoothing(ts_data, trend='add').fit()\n",
    "        trained_models[category] = model\n",
    "\n",
    "    # --- 4. SAVE TRAINED MODELS ---\n",
    "    with open(output_model_file, 'wb') as f:\n",
    "        pickle.dump(trained_models, f)\n",
    "        \n",
    "    print(f\"\\nTraining complete. Financial models have been saved to '{output_model_file}'.\")\n",
    "\n",
    "if __name__ == '__main__':\n",
    "    main()\n"
   ]
  },
  {
   "cell_type": "code",
   "execution_count": null,
   "id": "3d79c067-422b-45c3-81f0-e61219f4c487",
   "metadata": {},
   "outputs": [],
   "source": []
  }
 ],
 "metadata": {
  "kernelspec": {
   "display_name": "Python 3 (ipykernel)",
   "language": "python",
   "name": "python3"
  },
  "language_info": {
   "codemirror_mode": {
    "name": "ipython",
    "version": 3
   },
   "file_extension": ".py",
   "mimetype": "text/x-python",
   "name": "python",
   "nbconvert_exporter": "python",
   "pygments_lexer": "ipython3",
   "version": "3.13.7"
  }
 },
 "nbformat": 4,
 "nbformat_minor": 5
}
